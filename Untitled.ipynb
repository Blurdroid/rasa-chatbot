{
 "cells": [
  {
   "cell_type": "code",
   "execution_count": 16,
   "id": "e1c79652-c215-45e8-bb1d-ff00a9ece049",
   "metadata": {},
   "outputs": [
    {
     "name": "stdout",
     "output_type": "stream",
     "text": [
      "[('mohamed',), ('ziad',), ('omar',), ('salma',)]\n"
     ]
    }
   ],
   "source": [
    "import sqlite3\n",
    "\n",
    "connect = sqlite3.connect('resourceDB.db')\n",
    "cur= connect.cursor()\n",
    "query_name= cur.execute(\"SELECT name FROM students\")\n",
    "\n",
    "# query= \"SELECT name FROM students WHERE total_marks= 100;\"\n",
    "result= cur.fetchall()\n",
    "print(result)"
   ]
  },
  {
   "cell_type": "code",
   "execution_count": 14,
   "id": "b57f5862-4951-4094-ba78-6f1e7e59d3fe",
   "metadata": {},
   "outputs": [
    {
     "data": {
      "text/plain": [
       "sqlite3.Cursor"
      ]
     },
     "execution_count": 14,
     "metadata": {},
     "output_type": "execute_result"
    }
   ],
   "source": [
    "type(query_name)"
   ]
  },
  {
   "cell_type": "code",
   "execution_count": 18,
   "id": "621c0297-c9c7-451e-9203-455ddceabca4",
   "metadata": {},
   "outputs": [
    {
     "data": {
      "text/plain": [
       "[['mohamed'], ['ziad'], ['omar'], ['salma']]"
      ]
     },
     "execution_count": 18,
     "metadata": {},
     "output_type": "execute_result"
    }
   ],
   "source": [
    "query_name_list = [list(result) for result in results]\n",
    "query_name_list"
   ]
  },
  {
   "cell_type": "code",
   "execution_count": 19,
   "id": "e73a1f2c-88f8-4ce8-a3d7-e1a1ad09a64c",
   "metadata": {},
   "outputs": [
    {
     "data": {
      "text/plain": [
       "list"
      ]
     },
     "execution_count": 19,
     "metadata": {},
     "output_type": "execute_result"
    }
   ],
   "source": [
    "type(query_name_list)"
   ]
  },
  {
   "cell_type": "code",
   "execution_count": 23,
   "id": "0eed8c68-3cee-4bc7-bdd8-b19451b2ec14",
   "metadata": {},
   "outputs": [
    {
     "name": "stdout",
     "output_type": "stream",
     "text": [
      "unable to retrieve data from database\n"
     ]
    }
   ],
   "source": [
    "import sqlite3\n",
    "\n",
    "try:\n",
    "    connect = sqlite3.connect('resourceDB.db')\n",
    "    cur= connect.cursor()\n",
    "    query_name= cursor.execute(\"SELECT name FROM students\")\n",
    "    rows = cursor.fetchall()\n",
    "    query_name_list = [list(row) for row in rows] #convert sqlite3.cursor into list\n",
    "\n",
    "    x= \"omar\"\n",
    "    if x not in query_name_list:\n",
    "        print(\"i can't find the student in the database!\")\n",
    "    else:\n",
    "        # query = f\"SELECT total_marks FROM students WHERE name={slot_value};\" #to prevent sql injection\n",
    "        query= \"SELECT tota_marks FROM students WHERE name=?;\"\n",
    "        cursor.execute(query, (x,))\n",
    "        results = cursor.fetchall()\n",
    "    if results:\n",
    "        print(results)\n",
    "    else:\n",
    "        print(\"empty!\")\n",
    "except:\n",
    "    print(f\"unable to retrieve data from database\")"
   ]
  },
  {
   "cell_type": "code",
   "execution_count": null,
   "id": "dfade5b7-12b3-4473-81cc-1d5a5a2a7d58",
   "metadata": {},
   "outputs": [],
   "source": [
    "import sqlite3\n",
    "\n",
    "connect = sqlite3.connect('resourceDB.db')\n",
    "cur= connect.cursor()\n",
    "query_name= cur.execute(\"SELECT name FROM students\")\n",
    "\n",
    "# query= \"SELECT name FROM students WHERE total_marks= 100;\"\n",
    "result= cur.fetchall()\n",
    "print(result)"
   ]
  }
 ],
 "metadata": {
  "kernelspec": {
   "display_name": "Python 3 (ipykernel)",
   "language": "python",
   "name": "python3"
  },
  "language_info": {
   "codemirror_mode": {
    "name": "ipython",
    "version": 3
   },
   "file_extension": ".py",
   "mimetype": "text/x-python",
   "name": "python",
   "nbconvert_exporter": "python",
   "pygments_lexer": "ipython3",
   "version": "3.10.12"
  }
 },
 "nbformat": 4,
 "nbformat_minor": 5
}
